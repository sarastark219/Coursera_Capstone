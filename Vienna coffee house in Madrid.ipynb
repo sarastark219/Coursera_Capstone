{
    "cells": [
        {
            "cell_type": "markdown",
            "metadata": {
                "collapsed": true
            },
            "source": "# Vienna Coffee House in Madrid"
        },
        {
            "cell_type": "markdown",
            "metadata": {},
            "source": "## 1. Introduction / Business problem"
        },
        {
            "cell_type": "markdown",
            "metadata": {},
            "source": "In Madrid, if someone were looking to open a typical viennese coffee house, the question is, where would you recommend to open it? \n\nThe background of the problem is that in order for the coffee house to be profitable, there must be enough customers, and in order to have enough customers, it is not worth setting up one in the immediate promixity of existing other ones.\n\nLets also make sure that the location where we open the coffee house will have the highest amount of customers possible. The New owner should care about this problem because the location of the new coffee house has a significant impact on the expected returns."
        },
        {
            "cell_type": "markdown",
            "metadata": {},
            "source": "## 2. Data used"
        },
        {
            "cell_type": "markdown",
            "metadata": {},
            "source": "We will use a CSV file with data from Wikipedia with the information of each of the 21 districts in Madrid: Population, Latitute and Longitude"
        },
        {
            "cell_type": "code",
            "execution_count": 1,
            "metadata": {},
            "outputs": [
                {
                    "data": {
                        "text/html": "<div>\n<style scoped>\n    .dataframe tbody tr th:only-of-type {\n        vertical-align: middle;\n    }\n\n    .dataframe tbody tr th {\n        vertical-align: top;\n    }\n\n    .dataframe thead th {\n        text-align: right;\n    }\n</style>\n<table border=\"1\" class=\"dataframe\">\n  <thead>\n    <tr style=\"text-align: right;\">\n      <th></th>\n      <th>District Number</th>\n      <th>Name</th>\n      <th>Latitud</th>\n      <th>Longitud</th>\n      <th>Population</th>\n    </tr>\n  </thead>\n  <tbody>\n    <tr>\n      <th>0</th>\n      <td>1</td>\n      <td>Centro</td>\n      <td>40.41831</td>\n      <td>-3.70275</td>\n      <td>131928</td>\n    </tr>\n    <tr>\n      <th>1</th>\n      <td>2</td>\n      <td>Arganzuela</td>\n      <td>40.40021</td>\n      <td>-3.69618</td>\n      <td>151965</td>\n    </tr>\n    <tr>\n      <th>2</th>\n      <td>3</td>\n      <td>Retiro</td>\n      <td>40.41317</td>\n      <td>-3.68307</td>\n      <td>118516</td>\n    </tr>\n    <tr>\n      <th>3</th>\n      <td>4</td>\n      <td>Salamanca</td>\n      <td>40.42972</td>\n      <td>-3.67975</td>\n      <td>143800</td>\n    </tr>\n    <tr>\n      <th>4</th>\n      <td>5</td>\n      <td>Chamartin</td>\n      <td>40.46206</td>\n      <td>-3.67660</td>\n      <td>143424</td>\n    </tr>\n  </tbody>\n</table>\n</div>",
                        "text/plain": "   District Number        Name   Latitud  Longitud  Population\n0                1      Centro  40.41831  -3.70275      131928\n1                2  Arganzuela  40.40021  -3.69618      151965\n2                3      Retiro  40.41317  -3.68307      118516\n3                4   Salamanca  40.42972  -3.67975      143800\n4                5   Chamartin  40.46206  -3.67660      143424"
                    },
                    "execution_count": 1,
                    "metadata": {},
                    "output_type": "execute_result"
                }
            ],
            "source": "# The code was removed by Watson Studio for sharing."
        },
        {
            "cell_type": "markdown",
            "metadata": {},
            "source": "We will also use Foursquare data to obtain which districts of Madrid have already a lot of coffee houses. Then using this information plus the population we will use K - Clustering to obtain the best location for our new coffee house."
        }
    ],
    "metadata": {
        "kernelspec": {
            "display_name": "Python 3.7",
            "language": "python",
            "name": "python3"
        },
        "language_info": {
            "codemirror_mode": {
                "name": "ipython",
                "version": 3
            },
            "file_extension": ".py",
            "mimetype": "text/x-python",
            "name": "python",
            "nbconvert_exporter": "python",
            "pygments_lexer": "ipython3",
            "version": "3.7.9"
        }
    },
    "nbformat": 4,
    "nbformat_minor": 1
}